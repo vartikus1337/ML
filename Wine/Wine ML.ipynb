{
 "cells": [
  {
   "cell_type": "code",
   "execution_count": 1,
   "id": "a2d326b8",
   "metadata": {},
   "outputs": [],
   "source": [
    "import numpy as np\n",
    "import pandas as pd\n",
    "import matplotlib.pyplot as plt \n",
    "from sklearn.preprocessing import LabelEncoder\n",
    "from sklearn.model_selection import train_test_split\n",
    "from sklearn.metrics import  accuracy_score\n",
    "import warnings\n",
    "warnings.filterwarnings('ignore')"
   ]
  },
  {
   "cell_type": "code",
   "execution_count": 2,
   "id": "5335eb19",
   "metadata": {
    "scrolled": true
   },
   "outputs": [
    {
     "name": "stdout",
     "output_type": "stream",
     "text": [
      "<class 'pandas.core.frame.DataFrame'>\n",
      "RangeIndex: 1143 entries, 0 to 1142\n",
      "Data columns (total 13 columns):\n",
      " #   Column                Non-Null Count  Dtype  \n",
      "---  ------                --------------  -----  \n",
      " 0   fixed acidity         1143 non-null   float64\n",
      " 1   volatile acidity      1143 non-null   float64\n",
      " 2   citric acid           1143 non-null   float64\n",
      " 3   residual sugar        1143 non-null   float64\n",
      " 4   chlorides             1143 non-null   float64\n",
      " 5   free sulfur dioxide   1143 non-null   float64\n",
      " 6   total sulfur dioxide  1143 non-null   float64\n",
      " 7   density               1143 non-null   float64\n",
      " 8   pH                    1143 non-null   float64\n",
      " 9   sulphates             1143 non-null   float64\n",
      " 10  alcohol               1143 non-null   float64\n",
      " 11  quality               1143 non-null   int64  \n",
      " 12  Id                    1143 non-null   int64  \n",
      "dtypes: float64(11), int64(2)\n",
      "memory usage: 116.2 KB\n"
     ]
    }
   ],
   "source": [
    "df = pd.read_csv('WineQT.csv')\n",
    "df.info()"
   ]
  },
  {
   "cell_type": "code",
   "execution_count": 3,
   "id": "335c831b",
   "metadata": {},
   "outputs": [
    {
     "data": {
      "text/plain": [
       "array([5, 6, 7, 4, 8, 3], dtype=int64)"
      ]
     },
     "execution_count": 3,
     "metadata": {},
     "output_type": "execute_result"
    }
   ],
   "source": [
    "df['quality'].unique()"
   ]
  },
  {
   "cell_type": "code",
   "execution_count": 4,
   "id": "1d4db64e",
   "metadata": {},
   "outputs": [],
   "source": [
    "x = df[['fixed acidity', 'volatile acidity', 'citric acid', 'residual sugar', 'chlorides', 'free sulfur dioxide',\n",
    "        'total sulfur dioxide', 'density', 'pH', 'sulphates', 'alcohol']]\n",
    "y = df['quality']"
   ]
  },
  {
   "cell_type": "code",
   "execution_count": 5,
   "id": "9a4427b8",
   "metadata": {},
   "outputs": [],
   "source": [
    "encoder = LabelEncoder()\n",
    "y = encoder.fit_transform(y)"
   ]
  },
  {
   "cell_type": "code",
   "execution_count": 6,
   "id": "5dc45f3b",
   "metadata": {},
   "outputs": [],
   "source": [
    "x_train, x_test, y_train, y_test = train_test_split(x, y, test_size = 0.3, random_state = 101)"
   ]
  },
  {
   "cell_type": "markdown",
   "id": "fe25fd4c",
   "metadata": {},
   "source": [
    "# Логистическая регрессия"
   ]
  },
  {
   "cell_type": "code",
   "execution_count": 7,
   "id": "5fcaa1ea",
   "metadata": {
    "scrolled": false
   },
   "outputs": [
    {
     "name": "stdout",
     "output_type": "stream",
     "text": [
      "Logistic Regression -  0.6559766763848397\n"
     ]
    }
   ],
   "source": [
    "from sklearn.linear_model import LogisticRegression\n",
    "lr_model = LogisticRegression()\n",
    "lr_model.fit(x_train,y_train)\n",
    "lr_predict = lr_model.predict(x_test)\n",
    "\n",
    "print('Logistic Regression - ',accuracy_score(lr_predict,y_test))"
   ]
  },
  {
   "cell_type": "markdown",
   "id": "4c3ed535",
   "metadata": {},
   "source": [
    "#  SVC"
   ]
  },
  {
   "cell_type": "code",
   "execution_count": 8,
   "id": "b8314141",
   "metadata": {
    "scrolled": true
   },
   "outputs": [
    {
     "name": "stdout",
     "output_type": "stream",
     "text": [
      "SVM -  0.6559766763848397\n"
     ]
    }
   ],
   "source": [
    "from sklearn.svm import SVC\n",
    "svm_model = SVC(kernel='linear')\n",
    "svm_model.fit(x_train,y_train)\n",
    "svc_predict = svm_model.predict(x_test)\n",
    "\n",
    "print('SVM - ',accuracy_score(svc_predict,y_test))"
   ]
  },
  {
   "cell_type": "markdown",
   "id": "95875171",
   "metadata": {},
   "source": [
    "# Naive Bayes Classification"
   ]
  },
  {
   "cell_type": "code",
   "execution_count": 9,
   "id": "eeed4ec6",
   "metadata": {
    "scrolled": true
   },
   "outputs": [
    {
     "name": "stdout",
     "output_type": "stream",
     "text": [
      "Naive bayes -  0.5743440233236151\n"
     ]
    }
   ],
   "source": [
    "from sklearn.naive_bayes import GaussianNB\n",
    "nb_model = GaussianNB()\n",
    "nb_model.fit(x_train,y_train)\n",
    "nb_predict = nb_model.predict(x_test)\n",
    "\n",
    "print('Naive bayes - ',accuracy_score(nb_predict,y_test))"
   ]
  },
  {
   "cell_type": "markdown",
   "id": "401abcfc",
   "metadata": {},
   "source": [
    "# Decision tree"
   ]
  },
  {
   "cell_type": "code",
   "execution_count": 10,
   "id": "7b42b2be",
   "metadata": {},
   "outputs": [
    {
     "name": "stdout",
     "output_type": "stream",
     "text": [
      "Decision Tree -  0.6064139941690962\n"
     ]
    }
   ],
   "source": [
    "from sklearn.tree import DecisionTreeClassifier\n",
    "dt_model = DecisionTreeClassifier(max_leaf_nodes=3)\n",
    "dt_model.fit(x_train,y_train)\n",
    "dt_predict = dt_model.predict(x_test)\n",
    "\n",
    "print('Decision Tree - ',accuracy_score(dt_predict,y_test))"
   ]
  },
  {
   "cell_type": "markdown",
   "id": "e8d0ad4a",
   "metadata": {},
   "source": [
    "# Random forest"
   ]
  },
  {
   "cell_type": "code",
   "execution_count": 11,
   "id": "7f29c533",
   "metadata": {},
   "outputs": [
    {
     "name": "stdout",
     "output_type": "stream",
     "text": [
      "Random Forest -  0.641399416909621\n"
     ]
    }
   ],
   "source": [
    "from sklearn.ensemble import RandomForestClassifier\n",
    "rfc_model = RandomForestClassifier(max_depth=3)\n",
    "rfc_model.fit(x_train,y_train)\n",
    "rfc_predict = rfc_model.predict(x_test)\n",
    "\n",
    "print('Random Forest - ',accuracy_score(rfc_predict,y_test))"
   ]
  },
  {
   "cell_type": "markdown",
   "id": "a2225c5f",
   "metadata": {},
   "source": [
    "# Extra Tree Classifier"
   ]
  },
  {
   "cell_type": "code",
   "execution_count": 12,
   "id": "2fd356e8",
   "metadata": {},
   "outputs": [
    {
     "name": "stdout",
     "output_type": "stream",
     "text": [
      "Extra Tree Classifier -  0.6822157434402333\n"
     ]
    }
   ],
   "source": [
    "from sklearn.ensemble import ExtraTreesClassifier\n",
    "etc_model = ExtraTreesClassifier()\n",
    "etc_model.fit(x_train,y_train)\n",
    "etc_predict = etc_model.predict(x_test)\n",
    "\n",
    "print('Extra Tree Classifier - ',accuracy_score(etc_predict,y_test))"
   ]
  },
  {
   "cell_type": "markdown",
   "id": "bea98a4d",
   "metadata": {},
   "source": [
    "# KNN"
   ]
  },
  {
   "cell_type": "code",
   "execution_count": 13,
   "id": "8b53fc69",
   "metadata": {},
   "outputs": [
    {
     "name": "stdout",
     "output_type": "stream",
     "text": [
      "knn -  0.4868804664723032\n"
     ]
    }
   ],
   "source": [
    "from sklearn.neighbors import KNeighborsClassifier\n",
    "knn_model = KNeighborsClassifier(n_neighbors=3)\n",
    "knn_model.fit(x_train,y_train)\n",
    "knn_predict = knn_model.predict(x_test)\n",
    "\n",
    "print('knn - ',accuracy_score(knn_predict,y_test))"
   ]
  },
  {
   "cell_type": "markdown",
   "id": "352762df",
   "metadata": {},
   "source": [
    "# Gradient Boosting"
   ]
  },
  {
   "cell_type": "code",
   "execution_count": 14,
   "id": "34099978",
   "metadata": {},
   "outputs": [
    {
     "data": {
      "text/plain": [
       "0.5072886297376094"
      ]
     },
     "execution_count": 14,
     "metadata": {},
     "output_type": "execute_result"
    }
   ],
   "source": [
    "from sklearn.ensemble import GradientBoostingClassifier\n",
    "clf = GradientBoostingClassifier(n_estimators=100, learning_rate=1.0,\n",
    "     max_depth=1, random_state=1).fit(x_train, y_train)\n",
    "clf.score(x_test, y_test)"
   ]
  },
  {
   "cell_type": "markdown",
   "id": "d6df2e47",
   "metadata": {},
   "source": [
    "# Deep Learing"
   ]
  },
  {
   "cell_type": "code",
   "execution_count": 15,
   "id": "eb71c706",
   "metadata": {},
   "outputs": [],
   "source": [
    "import keras\n",
    "from keras.models import Sequential\n",
    "from keras.layers import Dense"
   ]
  },
  {
   "cell_type": "code",
   "execution_count": 16,
   "id": "894e62be",
   "metadata": {},
   "outputs": [
    {
     "data": {
      "text/plain": [
       "6"
      ]
     },
     "execution_count": 16,
     "metadata": {},
     "output_type": "execute_result"
    }
   ],
   "source": [
    "from sklearn.preprocessing import StandardScaler, LabelBinarizer\n",
    "x = df[['fixed acidity', 'volatile acidity', 'citric acid', 'residual sugar', 'chlorides', 'free sulfur dioxide',\n",
    "        'total sulfur dioxide', 'density', 'pH', 'sulphates', 'alcohol']]\n",
    "y = df['quality']\n",
    "\n",
    "X = StandardScaler().fit_transform(x)\n",
    "y = LabelBinarizer().fit_transform(y)\n",
    "\n",
    "x_train, x_test, y_train, y_test = train_test_split(X, y, test_size = 0.3, random_state = 101)\n",
    "len(df['quality'].unique())"
   ]
  },
  {
   "cell_type": "code",
   "execution_count": 17,
   "id": "f1a9f34b",
   "metadata": {},
   "outputs": [],
   "source": [
    "shallow_model = Sequential()\n",
    "shallow_model.add(Dense(11, activation='relu'))\n",
    "shallow_model.add(Dense(9, activation='relu'))\n",
    "shallow_model.add(Dense(6, activation='softmax'))\n",
    "shallow_model.compile(loss = 'binary_crossentropy', optimizer = 'adam', metrics = ['accuracy'])"
   ]
  },
  {
   "cell_type": "code",
   "execution_count": 18,
   "id": "edc97c3b",
   "metadata": {},
   "outputs": [
    {
     "name": "stdout",
     "output_type": "stream",
     "text": [
      "Epoch 1/180\n",
      "25/25 [==============================] - 3s 27ms/step - loss: 0.7947 - accuracy: 0.2138 - val_loss: 0.7652 - val_accuracy: 0.1633\n",
      "Epoch 2/180\n",
      "25/25 [==============================] - 0s 11ms/step - loss: 0.7230 - accuracy: 0.2925 - val_loss: 0.7039 - val_accuracy: 0.2682\n",
      "Epoch 3/180\n",
      "25/25 [==============================] - 0s 10ms/step - loss: 0.6709 - accuracy: 0.3512 - val_loss: 0.6556 - val_accuracy: 0.3557\n",
      "Epoch 4/180\n",
      "25/25 [==============================] - 0s 13ms/step - loss: 0.6273 - accuracy: 0.3963 - val_loss: 0.6126 - val_accuracy: 0.4227\n",
      "Epoch 5/180\n",
      "25/25 [==============================] - 0s 9ms/step - loss: 0.5860 - accuracy: 0.4162 - val_loss: 0.5702 - val_accuracy: 0.4461\n",
      "Epoch 6/180\n",
      "25/25 [==============================] - 0s 10ms/step - loss: 0.5442 - accuracy: 0.4275 - val_loss: 0.5279 - val_accuracy: 0.4606\n",
      "Epoch 7/180\n",
      "25/25 [==============================] - 0s 10ms/step - loss: 0.5014 - accuracy: 0.4338 - val_loss: 0.4840 - val_accuracy: 0.4752\n",
      "Epoch 8/180\n",
      "25/25 [==============================] - 0s 12ms/step - loss: 0.4567 - accuracy: 0.4400 - val_loss: 0.4398 - val_accuracy: 0.4781\n",
      "Epoch 9/180\n",
      "25/25 [==============================] - 0s 9ms/step - loss: 0.4149 - accuracy: 0.4387 - val_loss: 0.4018 - val_accuracy: 0.4840\n",
      "Epoch 10/180\n",
      "25/25 [==============================] - 0s 11ms/step - loss: 0.3827 - accuracy: 0.4400 - val_loss: 0.3748 - val_accuracy: 0.4898\n",
      "Epoch 11/180\n",
      "25/25 [==============================] - 0s 12ms/step - loss: 0.3612 - accuracy: 0.4300 - val_loss: 0.3571 - val_accuracy: 0.4869\n",
      "Epoch 12/180\n",
      "25/25 [==============================] - 0s 10ms/step - loss: 0.3479 - accuracy: 0.4400 - val_loss: 0.3452 - val_accuracy: 0.4869\n",
      "Epoch 13/180\n",
      "25/25 [==============================] - 0s 9ms/step - loss: 0.3396 - accuracy: 0.4512 - val_loss: 0.3371 - val_accuracy: 0.4869\n",
      "Epoch 14/180\n",
      "25/25 [==============================] - 0s 9ms/step - loss: 0.3336 - accuracy: 0.4563 - val_loss: 0.3310 - val_accuracy: 0.4898\n",
      "Epoch 15/180\n",
      "25/25 [==============================] - 0s 18ms/step - loss: 0.3294 - accuracy: 0.4563 - val_loss: 0.3261 - val_accuracy: 0.4869\n",
      "Epoch 16/180\n",
      "25/25 [==============================] - 0s 18ms/step - loss: 0.3258 - accuracy: 0.4663 - val_loss: 0.3224 - val_accuracy: 0.5073\n",
      "Epoch 17/180\n",
      "25/25 [==============================] - 0s 9ms/step - loss: 0.3224 - accuracy: 0.4700 - val_loss: 0.3182 - val_accuracy: 0.5102\n",
      "Epoch 18/180\n",
      "25/25 [==============================] - 0s 9ms/step - loss: 0.3196 - accuracy: 0.4800 - val_loss: 0.3145 - val_accuracy: 0.5190\n",
      "Epoch 19/180\n",
      "25/25 [==============================] - 0s 9ms/step - loss: 0.3167 - accuracy: 0.4875 - val_loss: 0.3111 - val_accuracy: 0.5190\n",
      "Epoch 20/180\n",
      "25/25 [==============================] - 0s 19ms/step - loss: 0.3143 - accuracy: 0.4988 - val_loss: 0.3080 - val_accuracy: 0.5190\n",
      "Epoch 21/180\n",
      "25/25 [==============================] - 0s 18ms/step - loss: 0.3118 - accuracy: 0.5150 - val_loss: 0.3051 - val_accuracy: 0.5248\n",
      "Epoch 22/180\n",
      "25/25 [==============================] - 0s 17ms/step - loss: 0.3093 - accuracy: 0.5175 - val_loss: 0.3019 - val_accuracy: 0.5277\n",
      "Epoch 23/180\n",
      "25/25 [==============================] - 0s 12ms/step - loss: 0.3071 - accuracy: 0.5263 - val_loss: 0.2992 - val_accuracy: 0.5364\n",
      "Epoch 24/180\n",
      "25/25 [==============================] - 0s 11ms/step - loss: 0.3051 - accuracy: 0.5300 - val_loss: 0.2961 - val_accuracy: 0.5569\n",
      "Epoch 25/180\n",
      "25/25 [==============================] - 1s 21ms/step - loss: 0.3030 - accuracy: 0.5450 - val_loss: 0.2940 - val_accuracy: 0.5627\n",
      "Epoch 26/180\n",
      "25/25 [==============================] - 0s 17ms/step - loss: 0.3012 - accuracy: 0.5487 - val_loss: 0.2911 - val_accuracy: 0.5685\n",
      "Epoch 27/180\n",
      "25/25 [==============================] - 0s 7ms/step - loss: 0.2993 - accuracy: 0.5537 - val_loss: 0.2888 - val_accuracy: 0.5773\n",
      "Epoch 28/180\n",
      "25/25 [==============================] - 0s 16ms/step - loss: 0.2977 - accuracy: 0.5600 - val_loss: 0.2867 - val_accuracy: 0.6035\n",
      "Epoch 29/180\n",
      "25/25 [==============================] - 0s 12ms/step - loss: 0.2963 - accuracy: 0.5663 - val_loss: 0.2848 - val_accuracy: 0.6006\n",
      "Epoch 30/180\n",
      "25/25 [==============================] - 0s 12ms/step - loss: 0.2951 - accuracy: 0.5688 - val_loss: 0.2826 - val_accuracy: 0.6006\n",
      "Epoch 31/180\n",
      "25/25 [==============================] - 0s 9ms/step - loss: 0.2938 - accuracy: 0.5700 - val_loss: 0.2813 - val_accuracy: 0.6152\n",
      "Epoch 32/180\n",
      "25/25 [==============================] - 0s 11ms/step - loss: 0.2927 - accuracy: 0.5700 - val_loss: 0.2795 - val_accuracy: 0.6152\n",
      "Epoch 33/180\n",
      "25/25 [==============================] - 0s 10ms/step - loss: 0.2917 - accuracy: 0.5700 - val_loss: 0.2782 - val_accuracy: 0.6152\n",
      "Epoch 34/180\n",
      "25/25 [==============================] - 0s 12ms/step - loss: 0.2908 - accuracy: 0.5738 - val_loss: 0.2774 - val_accuracy: 0.6210\n",
      "Epoch 35/180\n",
      "25/25 [==============================] - 0s 10ms/step - loss: 0.2898 - accuracy: 0.5725 - val_loss: 0.2759 - val_accuracy: 0.6181\n",
      "Epoch 36/180\n",
      "25/25 [==============================] - 0s 11ms/step - loss: 0.2892 - accuracy: 0.5788 - val_loss: 0.2747 - val_accuracy: 0.6239\n",
      "Epoch 37/180\n",
      "25/25 [==============================] - 0s 11ms/step - loss: 0.2884 - accuracy: 0.5675 - val_loss: 0.2740 - val_accuracy: 0.6181\n",
      "Epoch 38/180\n",
      "25/25 [==============================] - 0s 10ms/step - loss: 0.2878 - accuracy: 0.5713 - val_loss: 0.2731 - val_accuracy: 0.6268\n",
      "Epoch 39/180\n",
      "25/25 [==============================] - 0s 9ms/step - loss: 0.2871 - accuracy: 0.5913 - val_loss: 0.2727 - val_accuracy: 0.6297\n",
      "Epoch 40/180\n",
      "25/25 [==============================] - 0s 12ms/step - loss: 0.2863 - accuracy: 0.5838 - val_loss: 0.2718 - val_accuracy: 0.6181\n",
      "Epoch 41/180\n",
      "25/25 [==============================] - 0s 11ms/step - loss: 0.2857 - accuracy: 0.5738 - val_loss: 0.2711 - val_accuracy: 0.6210\n",
      "Epoch 42/180\n",
      "25/25 [==============================] - 0s 9ms/step - loss: 0.2852 - accuracy: 0.5800 - val_loss: 0.2705 - val_accuracy: 0.6268\n",
      "Epoch 43/180\n",
      "25/25 [==============================] - 0s 9ms/step - loss: 0.2846 - accuracy: 0.5813 - val_loss: 0.2695 - val_accuracy: 0.6268\n",
      "Epoch 44/180\n",
      "25/25 [==============================] - 0s 9ms/step - loss: 0.2841 - accuracy: 0.5962 - val_loss: 0.2692 - val_accuracy: 0.6327\n",
      "Epoch 45/180\n",
      "25/25 [==============================] - 0s 13ms/step - loss: 0.2834 - accuracy: 0.5888 - val_loss: 0.2682 - val_accuracy: 0.6210\n",
      "Epoch 46/180\n",
      "25/25 [==============================] - 0s 11ms/step - loss: 0.2831 - accuracy: 0.5875 - val_loss: 0.2678 - val_accuracy: 0.6385\n",
      "Epoch 47/180\n",
      "25/25 [==============================] - 0s 13ms/step - loss: 0.2825 - accuracy: 0.5888 - val_loss: 0.2676 - val_accuracy: 0.6385\n",
      "Epoch 48/180\n",
      "25/25 [==============================] - 0s 15ms/step - loss: 0.2820 - accuracy: 0.5863 - val_loss: 0.2670 - val_accuracy: 0.6356\n",
      "Epoch 49/180\n",
      "25/25 [==============================] - 0s 10ms/step - loss: 0.2814 - accuracy: 0.5962 - val_loss: 0.2669 - val_accuracy: 0.6385\n",
      "Epoch 50/180\n",
      "25/25 [==============================] - 0s 10ms/step - loss: 0.2809 - accuracy: 0.5888 - val_loss: 0.2657 - val_accuracy: 0.6443\n",
      "Epoch 51/180\n",
      "25/25 [==============================] - 0s 11ms/step - loss: 0.2806 - accuracy: 0.5913 - val_loss: 0.2654 - val_accuracy: 0.6385\n",
      "Epoch 52/180\n",
      "25/25 [==============================] - 0s 9ms/step - loss: 0.2800 - accuracy: 0.5975 - val_loss: 0.2655 - val_accuracy: 0.6501\n",
      "Epoch 53/180\n",
      "25/25 [==============================] - 0s 12ms/step - loss: 0.2796 - accuracy: 0.5925 - val_loss: 0.2649 - val_accuracy: 0.6385\n",
      "Epoch 54/180\n",
      "25/25 [==============================] - 0s 9ms/step - loss: 0.2793 - accuracy: 0.6012 - val_loss: 0.2647 - val_accuracy: 0.6472\n",
      "Epoch 55/180\n",
      "25/25 [==============================] - 0s 12ms/step - loss: 0.2787 - accuracy: 0.5975 - val_loss: 0.2642 - val_accuracy: 0.6472\n",
      "Epoch 56/180\n",
      "25/25 [==============================] - 0s 12ms/step - loss: 0.2782 - accuracy: 0.5913 - val_loss: 0.2641 - val_accuracy: 0.6414\n",
      "Epoch 57/180\n",
      "25/25 [==============================] - 0s 12ms/step - loss: 0.2778 - accuracy: 0.5925 - val_loss: 0.2632 - val_accuracy: 0.6443\n",
      "Epoch 58/180\n",
      "25/25 [==============================] - 0s 12ms/step - loss: 0.2773 - accuracy: 0.6012 - val_loss: 0.2631 - val_accuracy: 0.6501\n",
      "Epoch 59/180\n",
      "25/25 [==============================] - 0s 12ms/step - loss: 0.2771 - accuracy: 0.6000 - val_loss: 0.2629 - val_accuracy: 0.6472\n",
      "Epoch 60/180\n",
      "25/25 [==============================] - 0s 9ms/step - loss: 0.2765 - accuracy: 0.6037 - val_loss: 0.2627 - val_accuracy: 0.6560\n",
      "Epoch 61/180\n",
      "25/25 [==============================] - 0s 10ms/step - loss: 0.2761 - accuracy: 0.6012 - val_loss: 0.2623 - val_accuracy: 0.6443\n",
      "Epoch 62/180\n",
      "25/25 [==============================] - 0s 8ms/step - loss: 0.2756 - accuracy: 0.6000 - val_loss: 0.2620 - val_accuracy: 0.6472\n",
      "Epoch 63/180\n",
      "25/25 [==============================] - 0s 7ms/step - loss: 0.2755 - accuracy: 0.6050 - val_loss: 0.2619 - val_accuracy: 0.6531\n",
      "Epoch 64/180\n",
      "25/25 [==============================] - 0s 8ms/step - loss: 0.2749 - accuracy: 0.6087 - val_loss: 0.2614 - val_accuracy: 0.6501\n",
      "Epoch 65/180\n",
      "25/25 [==============================] - 0s 10ms/step - loss: 0.2747 - accuracy: 0.6075 - val_loss: 0.2613 - val_accuracy: 0.6501\n",
      "Epoch 66/180\n",
      "25/25 [==============================] - 0s 8ms/step - loss: 0.2743 - accuracy: 0.6100 - val_loss: 0.2609 - val_accuracy: 0.6531\n",
      "Epoch 67/180\n",
      "25/25 [==============================] - 0s 14ms/step - loss: 0.2739 - accuracy: 0.6062 - val_loss: 0.2607 - val_accuracy: 0.6531\n",
      "Epoch 68/180\n",
      "25/25 [==============================] - 0s 12ms/step - loss: 0.2736 - accuracy: 0.6100 - val_loss: 0.2607 - val_accuracy: 0.6531\n",
      "Epoch 69/180\n",
      "25/25 [==============================] - 0s 13ms/step - loss: 0.2731 - accuracy: 0.6075 - val_loss: 0.2599 - val_accuracy: 0.6560\n",
      "Epoch 70/180\n",
      "25/25 [==============================] - 0s 7ms/step - loss: 0.2727 - accuracy: 0.6137 - val_loss: 0.2599 - val_accuracy: 0.6560\n",
      "Epoch 71/180\n",
      "25/25 [==============================] - 0s 8ms/step - loss: 0.2724 - accuracy: 0.6112 - val_loss: 0.2602 - val_accuracy: 0.6618\n",
      "Epoch 72/180\n",
      "25/25 [==============================] - 0s 9ms/step - loss: 0.2719 - accuracy: 0.6187 - val_loss: 0.2597 - val_accuracy: 0.6589\n",
      "Epoch 73/180\n",
      "25/25 [==============================] - 0s 7ms/step - loss: 0.2717 - accuracy: 0.6150 - val_loss: 0.2597 - val_accuracy: 0.6589\n",
      "Epoch 74/180\n",
      "25/25 [==============================] - 0s 6ms/step - loss: 0.2720 - accuracy: 0.6112 - val_loss: 0.2592 - val_accuracy: 0.6531\n",
      "Epoch 75/180\n",
      "25/25 [==============================] - 0s 7ms/step - loss: 0.2709 - accuracy: 0.6112 - val_loss: 0.2592 - val_accuracy: 0.6676\n",
      "Epoch 76/180\n",
      "25/25 [==============================] - 0s 7ms/step - loss: 0.2707 - accuracy: 0.6150 - val_loss: 0.2591 - val_accuracy: 0.6647\n",
      "Epoch 77/180\n",
      "25/25 [==============================] - 0s 7ms/step - loss: 0.2702 - accuracy: 0.6162 - val_loss: 0.2584 - val_accuracy: 0.6647\n",
      "Epoch 78/180\n",
      "25/25 [==============================] - 0s 9ms/step - loss: 0.2698 - accuracy: 0.6162 - val_loss: 0.2586 - val_accuracy: 0.6589\n",
      "Epoch 79/180\n",
      "25/25 [==============================] - 0s 7ms/step - loss: 0.2693 - accuracy: 0.6187 - val_loss: 0.2582 - val_accuracy: 0.6560\n",
      "Epoch 80/180\n",
      "25/25 [==============================] - 0s 8ms/step - loss: 0.2694 - accuracy: 0.6175 - val_loss: 0.2582 - val_accuracy: 0.6560\n",
      "Epoch 81/180\n",
      "25/25 [==============================] - 0s 8ms/step - loss: 0.2689 - accuracy: 0.6175 - val_loss: 0.2575 - val_accuracy: 0.6589\n",
      "Epoch 82/180\n",
      "25/25 [==============================] - 0s 8ms/step - loss: 0.2686 - accuracy: 0.6225 - val_loss: 0.2575 - val_accuracy: 0.6560\n",
      "Epoch 83/180\n",
      "25/25 [==============================] - 0s 7ms/step - loss: 0.2682 - accuracy: 0.6212 - val_loss: 0.2572 - val_accuracy: 0.6531\n",
      "Epoch 84/180\n",
      "25/25 [==============================] - 0s 7ms/step - loss: 0.2676 - accuracy: 0.6250 - val_loss: 0.2571 - val_accuracy: 0.6472\n",
      "Epoch 85/180\n",
      "25/25 [==============================] - 0s 7ms/step - loss: 0.2675 - accuracy: 0.6300 - val_loss: 0.2573 - val_accuracy: 0.6472\n",
      "Epoch 86/180\n",
      "25/25 [==============================] - 0s 8ms/step - loss: 0.2671 - accuracy: 0.6313 - val_loss: 0.2566 - val_accuracy: 0.6560\n",
      "Epoch 87/180\n",
      "25/25 [==============================] - 0s 8ms/step - loss: 0.2668 - accuracy: 0.6275 - val_loss: 0.2565 - val_accuracy: 0.6501\n",
      "Epoch 88/180\n",
      "25/25 [==============================] - 0s 8ms/step - loss: 0.2664 - accuracy: 0.6300 - val_loss: 0.2566 - val_accuracy: 0.6531\n",
      "Epoch 89/180\n",
      "25/25 [==============================] - 0s 8ms/step - loss: 0.2664 - accuracy: 0.6263 - val_loss: 0.2562 - val_accuracy: 0.6531\n",
      "Epoch 90/180\n",
      "25/25 [==============================] - 0s 8ms/step - loss: 0.2659 - accuracy: 0.6250 - val_loss: 0.2560 - val_accuracy: 0.6501\n",
      "Epoch 91/180\n",
      "25/25 [==============================] - 0s 8ms/step - loss: 0.2654 - accuracy: 0.6300 - val_loss: 0.2559 - val_accuracy: 0.6501\n",
      "Epoch 92/180\n",
      "25/25 [==============================] - 0s 8ms/step - loss: 0.2651 - accuracy: 0.6275 - val_loss: 0.2557 - val_accuracy: 0.6531\n",
      "Epoch 93/180\n",
      "25/25 [==============================] - 0s 7ms/step - loss: 0.2647 - accuracy: 0.6288 - val_loss: 0.2554 - val_accuracy: 0.6501\n",
      "Epoch 94/180\n",
      "25/25 [==============================] - 0s 7ms/step - loss: 0.2649 - accuracy: 0.6250 - val_loss: 0.2554 - val_accuracy: 0.6531\n",
      "Epoch 95/180\n",
      "25/25 [==============================] - 0s 7ms/step - loss: 0.2648 - accuracy: 0.6350 - val_loss: 0.2553 - val_accuracy: 0.6531\n",
      "Epoch 96/180\n",
      "25/25 [==============================] - 0s 7ms/step - loss: 0.2640 - accuracy: 0.6288 - val_loss: 0.2551 - val_accuracy: 0.6501\n",
      "Epoch 97/180\n",
      "25/25 [==============================] - 0s 7ms/step - loss: 0.2636 - accuracy: 0.6288 - val_loss: 0.2551 - val_accuracy: 0.6531\n",
      "Epoch 98/180\n",
      "25/25 [==============================] - 0s 7ms/step - loss: 0.2632 - accuracy: 0.6338 - val_loss: 0.2552 - val_accuracy: 0.6531\n",
      "Epoch 99/180\n",
      "25/25 [==============================] - 0s 7ms/step - loss: 0.2632 - accuracy: 0.6288 - val_loss: 0.2547 - val_accuracy: 0.6531\n",
      "Epoch 100/180\n",
      "25/25 [==============================] - 0s 9ms/step - loss: 0.2627 - accuracy: 0.6300 - val_loss: 0.2549 - val_accuracy: 0.6589\n",
      "Epoch 101/180\n",
      "25/25 [==============================] - 0s 7ms/step - loss: 0.2624 - accuracy: 0.6325 - val_loss: 0.2547 - val_accuracy: 0.6647\n",
      "Epoch 102/180\n",
      "25/25 [==============================] - 0s 9ms/step - loss: 0.2623 - accuracy: 0.6325 - val_loss: 0.2548 - val_accuracy: 0.6589\n",
      "Epoch 103/180\n",
      "25/25 [==============================] - 0s 7ms/step - loss: 0.2621 - accuracy: 0.6288 - val_loss: 0.2546 - val_accuracy: 0.6560\n",
      "Epoch 104/180\n",
      "25/25 [==============================] - 0s 8ms/step - loss: 0.2617 - accuracy: 0.6325 - val_loss: 0.2546 - val_accuracy: 0.6618\n",
      "Epoch 105/180\n",
      "25/25 [==============================] - 0s 7ms/step - loss: 0.2613 - accuracy: 0.6438 - val_loss: 0.2541 - val_accuracy: 0.6560\n",
      "Epoch 106/180\n",
      "25/25 [==============================] - 0s 7ms/step - loss: 0.2610 - accuracy: 0.6388 - val_loss: 0.2543 - val_accuracy: 0.6560\n",
      "Epoch 107/180\n",
      "25/25 [==============================] - 0s 11ms/step - loss: 0.2607 - accuracy: 0.6375 - val_loss: 0.2544 - val_accuracy: 0.6472\n",
      "Epoch 108/180\n",
      "25/25 [==============================] - 0s 10ms/step - loss: 0.2606 - accuracy: 0.6388 - val_loss: 0.2542 - val_accuracy: 0.6589\n",
      "Epoch 109/180\n",
      "25/25 [==============================] - 0s 10ms/step - loss: 0.2600 - accuracy: 0.6363 - val_loss: 0.2541 - val_accuracy: 0.6618\n",
      "Epoch 110/180\n",
      "25/25 [==============================] - 0s 9ms/step - loss: 0.2599 - accuracy: 0.6350 - val_loss: 0.2538 - val_accuracy: 0.6618\n",
      "Epoch 111/180\n",
      "25/25 [==============================] - 0s 13ms/step - loss: 0.2599 - accuracy: 0.6513 - val_loss: 0.2540 - val_accuracy: 0.6618\n",
      "Epoch 112/180\n",
      "25/25 [==============================] - 0s 11ms/step - loss: 0.2595 - accuracy: 0.6375 - val_loss: 0.2540 - val_accuracy: 0.6531\n",
      "Epoch 113/180\n",
      "25/25 [==============================] - 0s 15ms/step - loss: 0.2590 - accuracy: 0.6438 - val_loss: 0.2532 - val_accuracy: 0.6589\n",
      "Epoch 114/180\n",
      "25/25 [==============================] - 0s 9ms/step - loss: 0.2587 - accuracy: 0.6425 - val_loss: 0.2536 - val_accuracy: 0.6618\n",
      "Epoch 115/180\n",
      "25/25 [==============================] - 0s 10ms/step - loss: 0.2586 - accuracy: 0.6450 - val_loss: 0.2534 - val_accuracy: 0.6618\n",
      "Epoch 116/180\n",
      "25/25 [==============================] - 0s 10ms/step - loss: 0.2584 - accuracy: 0.6475 - val_loss: 0.2538 - val_accuracy: 0.6531\n",
      "Epoch 117/180\n",
      "25/25 [==============================] - 0s 10ms/step - loss: 0.2582 - accuracy: 0.6450 - val_loss: 0.2537 - val_accuracy: 0.6501\n",
      "Epoch 118/180\n",
      "25/25 [==============================] - 0s 11ms/step - loss: 0.2580 - accuracy: 0.6463 - val_loss: 0.2533 - val_accuracy: 0.6647\n",
      "Epoch 119/180\n",
      "25/25 [==============================] - 0s 7ms/step - loss: 0.2578 - accuracy: 0.6513 - val_loss: 0.2533 - val_accuracy: 0.6618\n",
      "Epoch 120/180\n",
      "25/25 [==============================] - 0s 9ms/step - loss: 0.2572 - accuracy: 0.6425 - val_loss: 0.2529 - val_accuracy: 0.6560\n",
      "Epoch 121/180\n",
      "25/25 [==============================] - 0s 11ms/step - loss: 0.2571 - accuracy: 0.6500 - val_loss: 0.2531 - val_accuracy: 0.6589\n",
      "Epoch 122/180\n",
      "25/25 [==============================] - 0s 8ms/step - loss: 0.2567 - accuracy: 0.6513 - val_loss: 0.2526 - val_accuracy: 0.6647\n",
      "Epoch 123/180\n",
      "25/25 [==============================] - 0s 8ms/step - loss: 0.2564 - accuracy: 0.6513 - val_loss: 0.2532 - val_accuracy: 0.6560\n",
      "Epoch 124/180\n",
      "25/25 [==============================] - 0s 7ms/step - loss: 0.2563 - accuracy: 0.6475 - val_loss: 0.2532 - val_accuracy: 0.6560\n",
      "Epoch 125/180\n",
      "25/25 [==============================] - 0s 7ms/step - loss: 0.2561 - accuracy: 0.6500 - val_loss: 0.2529 - val_accuracy: 0.6560\n",
      "Epoch 126/180\n",
      "25/25 [==============================] - 0s 9ms/step - loss: 0.2556 - accuracy: 0.6513 - val_loss: 0.2527 - val_accuracy: 0.6560\n",
      "Epoch 127/180\n",
      "25/25 [==============================] - 0s 9ms/step - loss: 0.2555 - accuracy: 0.6488 - val_loss: 0.2529 - val_accuracy: 0.6618\n",
      "Epoch 128/180\n",
      "25/25 [==============================] - 0s 9ms/step - loss: 0.2551 - accuracy: 0.6488 - val_loss: 0.2523 - val_accuracy: 0.6618\n",
      "Epoch 129/180\n",
      "25/25 [==============================] - 0s 9ms/step - loss: 0.2547 - accuracy: 0.6525 - val_loss: 0.2529 - val_accuracy: 0.6589\n",
      "Epoch 130/180\n",
      "25/25 [==============================] - 0s 8ms/step - loss: 0.2545 - accuracy: 0.6500 - val_loss: 0.2528 - val_accuracy: 0.6647\n",
      "Epoch 131/180\n",
      "25/25 [==============================] - 0s 9ms/step - loss: 0.2544 - accuracy: 0.6600 - val_loss: 0.2529 - val_accuracy: 0.6676\n",
      "Epoch 132/180\n",
      "25/25 [==============================] - 0s 9ms/step - loss: 0.2538 - accuracy: 0.6538 - val_loss: 0.2529 - val_accuracy: 0.6560\n",
      "Epoch 133/180\n",
      "25/25 [==============================] - 0s 8ms/step - loss: 0.2537 - accuracy: 0.6513 - val_loss: 0.2530 - val_accuracy: 0.6618\n",
      "Epoch 134/180\n",
      "25/25 [==============================] - 0s 8ms/step - loss: 0.2534 - accuracy: 0.6550 - val_loss: 0.2527 - val_accuracy: 0.6589\n",
      "Epoch 135/180\n",
      "25/25 [==============================] - 0s 9ms/step - loss: 0.2531 - accuracy: 0.6550 - val_loss: 0.2531 - val_accuracy: 0.6560\n",
      "Epoch 136/180\n",
      "25/25 [==============================] - 0s 9ms/step - loss: 0.2529 - accuracy: 0.6513 - val_loss: 0.2530 - val_accuracy: 0.6618\n",
      "Epoch 137/180\n",
      "25/25 [==============================] - 0s 18ms/step - loss: 0.2532 - accuracy: 0.6612 - val_loss: 0.2532 - val_accuracy: 0.6589\n",
      "Epoch 138/180\n",
      "25/25 [==============================] - 0s 10ms/step - loss: 0.2523 - accuracy: 0.6587 - val_loss: 0.2532 - val_accuracy: 0.6647\n",
      "Epoch 139/180\n",
      "25/25 [==============================] - 0s 14ms/step - loss: 0.2520 - accuracy: 0.6575 - val_loss: 0.2528 - val_accuracy: 0.6676\n",
      "Epoch 140/180\n",
      "25/25 [==============================] - 0s 14ms/step - loss: 0.2518 - accuracy: 0.6575 - val_loss: 0.2533 - val_accuracy: 0.6531\n",
      "Epoch 141/180\n",
      "25/25 [==============================] - 0s 10ms/step - loss: 0.2516 - accuracy: 0.6687 - val_loss: 0.2530 - val_accuracy: 0.6618\n",
      "Epoch 142/180\n",
      "25/25 [==============================] - 0s 14ms/step - loss: 0.2515 - accuracy: 0.6575 - val_loss: 0.2532 - val_accuracy: 0.6647\n",
      "Epoch 143/180\n",
      "25/25 [==============================] - 0s 10ms/step - loss: 0.2513 - accuracy: 0.6612 - val_loss: 0.2531 - val_accuracy: 0.6589\n",
      "Epoch 144/180\n",
      "25/25 [==============================] - 0s 10ms/step - loss: 0.2509 - accuracy: 0.6662 - val_loss: 0.2534 - val_accuracy: 0.6560\n",
      "Epoch 145/180\n",
      "25/25 [==============================] - 0s 14ms/step - loss: 0.2508 - accuracy: 0.6650 - val_loss: 0.2529 - val_accuracy: 0.6531\n",
      "Epoch 146/180\n",
      "25/25 [==============================] - 0s 9ms/step - loss: 0.2505 - accuracy: 0.6637 - val_loss: 0.2534 - val_accuracy: 0.6589\n",
      "Epoch 147/180\n",
      "25/25 [==============================] - 0s 14ms/step - loss: 0.2502 - accuracy: 0.6712 - val_loss: 0.2533 - val_accuracy: 0.6560\n",
      "Epoch 148/180\n",
      "25/25 [==============================] - 0s 8ms/step - loss: 0.2502 - accuracy: 0.6612 - val_loss: 0.2532 - val_accuracy: 0.6589\n",
      "Epoch 149/180\n",
      "25/25 [==============================] - 0s 9ms/step - loss: 0.2501 - accuracy: 0.6650 - val_loss: 0.2538 - val_accuracy: 0.6501\n",
      "Epoch 150/180\n",
      "25/25 [==============================] - 0s 10ms/step - loss: 0.2498 - accuracy: 0.6637 - val_loss: 0.2532 - val_accuracy: 0.6589\n",
      "Epoch 151/180\n",
      "25/25 [==============================] - 0s 9ms/step - loss: 0.2493 - accuracy: 0.6750 - val_loss: 0.2537 - val_accuracy: 0.6531\n",
      "Epoch 152/180\n",
      "25/25 [==============================] - 0s 9ms/step - loss: 0.2493 - accuracy: 0.6687 - val_loss: 0.2540 - val_accuracy: 0.6531\n",
      "Epoch 153/180\n",
      "25/25 [==============================] - 0s 10ms/step - loss: 0.2496 - accuracy: 0.6650 - val_loss: 0.2538 - val_accuracy: 0.6531\n",
      "Epoch 154/180\n",
      "25/25 [==============================] - 0s 10ms/step - loss: 0.2488 - accuracy: 0.6650 - val_loss: 0.2538 - val_accuracy: 0.6531\n",
      "Epoch 155/180\n",
      "25/25 [==============================] - 0s 10ms/step - loss: 0.2489 - accuracy: 0.6675 - val_loss: 0.2545 - val_accuracy: 0.6501\n",
      "Epoch 156/180\n",
      "25/25 [==============================] - 0s 9ms/step - loss: 0.2488 - accuracy: 0.6587 - val_loss: 0.2536 - val_accuracy: 0.6589\n",
      "Epoch 157/180\n",
      "25/25 [==============================] - 0s 9ms/step - loss: 0.2483 - accuracy: 0.6725 - val_loss: 0.2539 - val_accuracy: 0.6501\n",
      "Epoch 158/180\n",
      "25/25 [==============================] - 0s 9ms/step - loss: 0.2484 - accuracy: 0.6712 - val_loss: 0.2542 - val_accuracy: 0.6531\n",
      "Epoch 159/180\n",
      "25/25 [==============================] - 0s 10ms/step - loss: 0.2480 - accuracy: 0.6675 - val_loss: 0.2537 - val_accuracy: 0.6531\n",
      "Epoch 160/180\n",
      "25/25 [==============================] - 0s 10ms/step - loss: 0.2478 - accuracy: 0.6725 - val_loss: 0.2540 - val_accuracy: 0.6501\n",
      "Epoch 161/180\n",
      "25/25 [==============================] - 0s 10ms/step - loss: 0.2479 - accuracy: 0.6712 - val_loss: 0.2547 - val_accuracy: 0.6501\n",
      "Epoch 162/180\n",
      "25/25 [==============================] - 0s 11ms/step - loss: 0.2482 - accuracy: 0.6687 - val_loss: 0.2545 - val_accuracy: 0.6560\n",
      "Epoch 163/180\n",
      "25/25 [==============================] - 0s 10ms/step - loss: 0.2477 - accuracy: 0.6762 - val_loss: 0.2546 - val_accuracy: 0.6443\n",
      "Epoch 164/180\n",
      "25/25 [==============================] - 0s 13ms/step - loss: 0.2477 - accuracy: 0.6687 - val_loss: 0.2543 - val_accuracy: 0.6472\n",
      "Epoch 165/180\n",
      "25/25 [==============================] - 0s 9ms/step - loss: 0.2470 - accuracy: 0.6712 - val_loss: 0.2546 - val_accuracy: 0.6501\n",
      "Epoch 166/180\n",
      "25/25 [==============================] - 0s 10ms/step - loss: 0.2472 - accuracy: 0.6737 - val_loss: 0.2544 - val_accuracy: 0.6472\n",
      "Epoch 167/180\n",
      "25/25 [==============================] - 0s 13ms/step - loss: 0.2468 - accuracy: 0.6750 - val_loss: 0.2547 - val_accuracy: 0.6443\n",
      "Epoch 168/180\n",
      "25/25 [==============================] - 0s 14ms/step - loss: 0.2467 - accuracy: 0.6750 - val_loss: 0.2544 - val_accuracy: 0.6531\n",
      "Epoch 169/180\n",
      "25/25 [==============================] - 0s 11ms/step - loss: 0.2464 - accuracy: 0.6712 - val_loss: 0.2552 - val_accuracy: 0.6472\n",
      "Epoch 170/180\n",
      "25/25 [==============================] - 0s 11ms/step - loss: 0.2462 - accuracy: 0.6762 - val_loss: 0.2549 - val_accuracy: 0.6472\n",
      "Epoch 171/180\n",
      "25/25 [==============================] - 0s 11ms/step - loss: 0.2461 - accuracy: 0.6737 - val_loss: 0.2550 - val_accuracy: 0.6472\n",
      "Epoch 172/180\n",
      "25/25 [==============================] - 0s 15ms/step - loss: 0.2460 - accuracy: 0.6712 - val_loss: 0.2550 - val_accuracy: 0.6472\n",
      "Epoch 173/180\n",
      "25/25 [==============================] - 0s 16ms/step - loss: 0.2457 - accuracy: 0.6737 - val_loss: 0.2552 - val_accuracy: 0.6443\n",
      "Epoch 174/180\n",
      "25/25 [==============================] - 0s 12ms/step - loss: 0.2458 - accuracy: 0.6687 - val_loss: 0.2552 - val_accuracy: 0.6501\n",
      "Epoch 175/180\n",
      "25/25 [==============================] - 0s 12ms/step - loss: 0.2455 - accuracy: 0.6725 - val_loss: 0.2549 - val_accuracy: 0.6472\n",
      "Epoch 176/180\n",
      "25/25 [==============================] - 0s 9ms/step - loss: 0.2453 - accuracy: 0.6637 - val_loss: 0.2560 - val_accuracy: 0.6414\n",
      "Epoch 177/180\n",
      "25/25 [==============================] - 0s 8ms/step - loss: 0.2453 - accuracy: 0.6725 - val_loss: 0.2563 - val_accuracy: 0.6472\n",
      "Epoch 178/180\n",
      "25/25 [==============================] - 0s 9ms/step - loss: 0.2456 - accuracy: 0.6725 - val_loss: 0.2557 - val_accuracy: 0.6443\n",
      "Epoch 179/180\n",
      "25/25 [==============================] - 0s 9ms/step - loss: 0.2449 - accuracy: 0.6750 - val_loss: 0.2564 - val_accuracy: 0.6443\n",
      "Epoch 180/180\n",
      "25/25 [==============================] - 0s 13ms/step - loss: 0.2446 - accuracy: 0.6725 - val_loss: 0.2558 - val_accuracy: 0.6414\n"
     ]
    }
   ],
   "source": [
    "shallow_history = shallow_model.fit(x_train, y_train, epochs = 180, validation_data = (x_test, y_test))"
   ]
  },
  {
   "cell_type": "code",
   "execution_count": 19,
   "id": "8eab0825",
   "metadata": {
    "scrolled": true
   },
   "outputs": [
    {
     "data": {
      "image/png": "[encoded data removed]",
      "text/plain": [
       "<Figure size 640x480 with 1 Axes>"
      ]
     },
     "metadata": {},
     "output_type": "display_data"
    }
   ],
   "source": [
    "plt.plot(shallow_history.history['accuracy'])\n",
    "plt.plot(shallow_history.history['val_accuracy'])\n",
    "plt.title(\"Accuracy\")\n",
    "plt.legend(['train', 'test'])\n",
    "plt.show()"
   ]
  },
  {
   "cell_type": "code",
   "execution_count": 20,
   "id": "c9d56e51",
   "metadata": {
    "scrolled": true
   },
   "outputs": [
    {
     "data": {
      "image/png": "[encoded data removed]",
      "text/plain": [
       "<Figure size 640x480 with 1 Axes>"
      ]
     },
     "metadata": {},
     "output_type": "display_data"
    }
   ],
   "source": [
    "plt.plot(shallow_history.history['loss'])\n",
    "plt.plot(shallow_history.history['val_loss'])\n",
    "plt.plot('Loss')\n",
    "plt.legend(['train','test'])\n",
    "plt.show()"
   ]
  }
 ],
 "metadata": {
  "kernelspec": {
   "display_name": "Python 3 (ipykernel)",
   "language": "python",
   "name": "python3"
  },
  "language_info": {
   "codemirror_mode": {
    "name": "ipython",
    "version": 3
   },
   "file_extension": ".py",
   "mimetype": "text/x-python",
   "name": "python",
   "nbconvert_exporter": "python",
   "pygments_lexer": "ipython3",
   "version": "3.10.9"
  }
 },
 "nbformat": 4,
 "nbformat_minor": 5
}
