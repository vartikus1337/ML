{
 "cells": [
  {
   "cell_type": "markdown",
   "id": "838a5557",
   "metadata": {},
   "source": [
    "## Конфиги, чтоб график отрисовывался"
   ]
  },
  {
   "cell_type": "code",
   "execution_count": 1,
   "id": "dbbd6a43",
   "metadata": {},
   "outputs": [],
   "source": [
    "import os\n",
    "os.environ['TF_CPP_MIN_LOG_LEVEL'] = '2'\n",
    "os.environ['KMP_DUPLICATE_LIB_OK'] = 'True'"
   ]
  },
  {
   "cell_type": "code",
   "execution_count": 2,
   "id": "d996f2d5",
   "metadata": {},
   "outputs": [],
   "source": [
    "import numpy as np\n",
    "import matplotlib.pyplot as plt\n",
    "from tensorflow import keras\n",
    "from keras.layers import Dense"
   ]
  },
  {
   "cell_type": "markdown",
   "id": "06100df1",
   "metadata": {},
   "source": [
    "# Обучающая выборка"
   ]
  },
  {
   "cell_type": "markdown",
   "id": "54a52776",
   "metadata": {},
   "source": [
    "## Делаем нейронную сеть на температуру Форенгейта"
   ]
  },
  {
   "cell_type": "markdown",
   "id": "6c40fd1b",
   "metadata": {},
   "source": [
    "### Должна получится формула F = C * 1,8 + 30 "
   ]
  },
  {
   "cell_type": "markdown",
   "id": "aea1ab7f",
   "metadata": {},
   "source": [
    "#### Нейронка должна получить 1,8 и 30"
   ]
  },
  {
   "cell_type": "code",
   "execution_count": 3,
   "id": "52feaf0a",
   "metadata": {},
   "outputs": [],
   "source": [
    "c = np.array([-40, -10, 0, 8, 15, 22, 38])   # Цельсий\n",
    "f = np.array([-40, 14, 32, 46, 59, 72, 100]) # Форенгейт"
   ]
  },
  {
   "cell_type": "code",
   "execution_count": 4,
   "id": "b345a27a",
   "metadata": {},
   "outputs": [],
   "source": [
    "model = keras.Sequential() # Создание модели"
   ]
  },
  {
   "cell_type": "code",
   "execution_count": 5,
   "id": "dcb59806",
   "metadata": {},
   "outputs": [],
   "source": [
    "model.add(Dense(units=1, input_shape=(1,), activation='linear')) # Коркас модели"
   ]
  },
  {
   "cell_type": "markdown",
   "id": "f56e643a",
   "metadata": {},
   "source": [
    "```units```        - Кол-во нейронов <br>\n",
    "```input_shape```  - Кол-во входных данных в 1 нейрон <br>\n",
    "```activation```   - Функция активации"
   ]
  },
  {
   "cell_type": "code",
   "execution_count": 6,
   "id": "982e006f",
   "metadata": {},
   "outputs": [],
   "source": [
    "model.compile(loss='mean_squared_error', optimizer=keras.optimizers.Adam(0.1)) # Компиляция (готовность к обучению)"
   ]
  },
  {
   "cell_type": "markdown",
   "id": "8fc5b1d8",
   "metadata": {},
   "source": [
    "```loss```      - Критерий качества <br>\n",
    "```optimizer``` - Оптимизатор градиентного спуска <br>\n",
    ">```keras.optimizers.Adam(0.1)``` - шаг сходимости градиентного спуска или learning_rate"
   ]
  },
  {
   "cell_type": "code",
   "execution_count": 7,
   "id": "ec3f7fb3",
   "metadata": {},
   "outputs": [],
   "source": [
    "history = model.fit(c, f, epochs=500, verbose=False)"
   ]
  },
  {
   "cell_type": "markdown",
   "id": "91feb3d2",
   "metadata": {},
   "source": [
    "```c``` - Входные значения\n",
    "```f``` - Выводимые (которые будем ожидать) <br>\n",
    "```epochs``` - Сколько раз итерируем\n",
    "<blockquote> \n",
    "    В нашем случае 500раз итерируем <code>[-40, -10, 0, 8, 15, 22, 38]</code> <br>\n",
    "    И на каждей итерации получаем 'mean_squared_error' и используем оптимизатор <br>\n",
    "    Тем самым оптимизируя модель <br>\n",
    "</blockquote>\n",
    "<code>verbose</code> - Показывает служебную инфу"
   ]
  },
  {
   "cell_type": "code",
   "execution_count": 8,
   "id": "4dd1d273",
   "metadata": {},
   "outputs": [
    {
     "data": {
      "image/png": "[encoded data removed]",
      "text/plain": [
       "<Figure size 640x480 with 1 Axes>"
      ]
     },
     "metadata": {},
     "output_type": "display_data"
    }
   ],
   "source": [
    "plt.plot(history.history['loss']) # Что рисовать\n",
    "plt.grid(True) # добавление на фоне квадратов\n",
    "plt.show() # Показать"
   ]
  },
  {
   "cell_type": "code",
   "execution_count": 9,
   "id": "4d3cbca2",
   "metadata": {},
   "outputs": [
    {
     "name": "stdout",
     "output_type": "stream",
     "text": [
      "1/1 [==============================] - 0s 89ms/step\n",
      "[[211.32356]]\n"
     ]
    }
   ],
   "source": [
    "print(model.predict([100])) # используем в пылевых условиях"
   ]
  },
  {
   "cell_type": "code",
   "execution_count": 10,
   "id": "f53acf21",
   "metadata": {},
   "outputs": [
    {
     "name": "stdout",
     "output_type": "stream",
     "text": [
      "1.8: [[1.8225694]]\n"
     ]
    }
   ],
   "source": [
    "print(\"1.8:\", model.get_weights()[0]) "
   ]
  },
  {
   "cell_type": "code",
   "execution_count": 11,
   "id": "8a61390d",
   "metadata": {
    "scrolled": true
   },
   "outputs": [
    {
     "name": "stdout",
     "output_type": "stream",
     "text": [
      "30: [29.066616]\n"
     ]
    }
   ],
   "source": [
    "print(\"30:\", model.get_weights()[1])"
   ]
  },
  {
   "cell_type": "markdown",
   "id": "4400a295",
   "metadata": {},
   "source": [
    "# Функции активации"
   ]
  },
  {
   "cell_type": "markdown",
   "id": "d52f5504",
   "metadata": {},
   "source": [
    "### Распознование:\n",
    "1. Hindge\n",
    "2. Бинарная кросс-энтропия (binary crossentropy) - при квалификации 2-х классов\n",
    "3. Категориальная кросс-энтропия (categorical crossentropy) - при квалификации > 2 классов\n",
    "### Обраб. текста:\n",
    "1. logcosh\n",
    "### Регрессия:\n",
    "1. средний квадрат ошибок (mean squared error)\n",
    "2. средний модуль ошибок (mean absolute error)\n",
    "3. средний абсолютный процент ошибок (mean absolute percentage error) - харош в прогнозировании\n",
    "4. средний квадрат логарифмических ошибок (mean squared logarithmic error)"
   ]
  },
  {
   "cell_type": "markdown",
   "id": "74d70f2a",
   "metadata": {},
   "source": [
    "#### Инфа:\n",
    "#### https://youtu.be/jy6Dz4I5WHc?t=702"
   ]
  }
 ],
 "metadata": {
  "kernelspec": {
   "display_name": "Python 3 (ipykernel)",
   "language": "python",
   "name": "python3"
  },
  "language_info": {
   "codemirror_mode": {
    "name": "ipython",
    "version": 3
   },
   "file_extension": ".py",
   "mimetype": "text/x-python",
   "name": "python",
   "nbconvert_exporter": "python",
   "pygments_lexer": "ipython3",
   "version": "3.10.10"
  }
 },
 "nbformat": 4,
 "nbformat_minor": 5
}
