{
 "cells": [
  {
   "cell_type": "code",
   "execution_count": 1,
   "id": "5c7b14af",
   "metadata": {},
   "outputs": [],
   "source": [
    "import requests\n",
    "from bs4 import BeautifulSoup"
   ]
  },
  {
   "cell_type": "code",
   "execution_count": 2,
   "id": "4b4e380f",
   "metadata": {},
   "outputs": [],
   "source": [
    "url ='https://habr.com/ru/companies/'"
   ]
  },
  {
   "cell_type": "code",
   "execution_count": 3,
   "id": "0f8f48d4",
   "metadata": {},
   "outputs": [],
   "source": [
    "headers = {\n",
    "    \"User-Agent\": \"Mozilla/5.0 (Windows NT 10.0; Win64; x64) AppleWebKit/537.36 (KHTML, like Gecko) Chrome/106.0.0.0 Safari/537.36 Edg/106.0.1370.37\",\n",
    "    \"Accept\": \"application/json, text/plain, */*\"\n",
    "} "
   ]
  },
  {
   "cell_type": "code",
   "execution_count": 4,
   "id": "7c8aac06",
   "metadata": {},
   "outputs": [],
   "source": [
    "response = requests.get(url, headers=headers)"
   ]
  },
  {
   "cell_type": "code",
   "execution_count": 67,
   "id": "6f23c71c",
   "metadata": {},
   "outputs": [
    {
     "data": {
      "text/plain": [
       "17"
      ]
     },
     "execution_count": 67,
     "metadata": {},
     "output_type": "execute_result"
    }
   ],
   "source": [
    "soup = BeautifulSoup(response.text, \"lxml\")\n",
    "pages_count = int(soup.find_all(\"a\", class_=\"tm-pagination__page\")[-1].text)\n",
    "pages_count"
   ]
  },
  {
   "cell_type": "markdown",
   "id": "ea9c62db",
   "metadata": {},
   "source": [
    "### ТЕСТЫ"
   ]
  },
  {
   "cell_type": "code",
   "execution_count": 37,
   "id": "2f0fb838",
   "metadata": {},
   "outputs": [],
   "source": [
    "#for page in range(1, pages_count + 1):\n",
    "for page in range(1, 2):\n",
    "    url = f'https://habr.com/ru/companies/page{page}/'\n",
    "    response = requests.get(url, headers=headers)\n",
    "    soup = BeautifulSoup(response.text, \"lxml\")\n",
    "    companies = soup.find_all(\"div\", class_=\"tm-companies__item tm-companies__item_inlined\")"
   ]
  },
  {
   "cell_type": "code",
   "execution_count": 40,
   "id": "09dce9f5",
   "metadata": {},
   "outputs": [
    {
     "data": {
      "text/plain": [
       "<div class=\"tm-companies__item tm-companies__item_inlined\"><div class=\"tm-companies__company-wrapper\"><div class=\"tm-company-snippet\"><a class=\"tm-company-snippet__logo-link\" href=\"/ru/company/ruvds/profile/\"><div class=\"tm-entity-image\"><img alt=\"\" class=\"tm-entity-image__pic\" height=\"40\" src=\"//habrastorage.org/getpro/habr/company/027/b19/cea/027b19cea984722a8d806edcc56c2c00.png\" width=\"40\"/></div></a> <div class=\"tm-company-snippet__info\"><a class=\"tm-company-snippet__title\" href=\"/ru/company/ruvds/profile/\">RUVDS.com</a> <div class=\"tm-company-snippet__description\">VDS/VPS-хостинг. Скидка 15% по коду <b>HABR15</b></div></div></div> <div class=\"tm-companies__company-hubs\"><span class=\"tm-companies__hubs-label\">Пишет в хабы:</span> <span class=\"tm-companies__hubs-item\"><a class=\"tm-companies__hubs-item-link\" href=\"/ru/hub/DIY/\"><span>DIY или Сделай сам</span></a></span><span class=\"tm-companies__hubs-item\"><a class=\"tm-companies__hubs-item-link\" href=\"/ru/hub/read/\"><span>Читальный зал</span></a></span><span class=\"tm-companies__hubs-item\"><a class=\"tm-companies__hubs-item-link\" href=\"/ru/hub/popular_science/\"><span>Научно-популярное</span></a></span><span class=\"tm-companies__hubs-item\"><a class=\"tm-companies__hubs-item-link\" href=\"/ru/hub/easyelectronics/\"><span>Электроника для начинающих</span></a></span><span class=\"tm-companies__hubs-item\"><a class=\"tm-companies__hubs-item-link\" href=\"/ru/hub/sys_admin/\"><span>Системное администрирование</span></a></span></div></div> <div class=\"tm-companies__score-counters\"><span class=\"tm-companies__score-counter tm-companies__score-counter_rating\"><!-- -->\n",
       "              2152.06\n",
       "            </span> <span class=\"tm-companies__score-counter tm-companies__score-counter_subscribers\"><!-- -->\n",
       "              73K\n",
       "            </span> <!-- --></div></div>"
      ]
     },
     "execution_count": 40,
     "metadata": {},
     "output_type": "execute_result"
    }
   ],
   "source": [
    "companies[0]"
   ]
  },
  {
   "cell_type": "code",
   "execution_count": 108,
   "id": "f6eadec6",
   "metadata": {
    "scrolled": true
   },
   "outputs": [
    {
     "name": "stdout",
     "output_type": "stream",
     "text": [
      "RUVDS.com 2152.06 73000.0\n",
      "Selectel 1780.39 40000.0\n",
      "Timeweb Cloud 1672.49 1200.0\n",
      "OTUS 826.78 104000.0\n",
      "Яндекс 752.55 165000.0\n",
      "VK 656.66 168000.0\n",
      "Open Data Science 632.63 9700.0\n",
      "getmatch 484.99 976\n",
      "FirstVDS 446.02 24000.0\n",
      "ГК ЛАНИТ 444.28 55000.0\n",
      "Wiren Board 433.14 367\n",
      "Конференции Олега Бунина (Онтико) 376.91 58000.0\n",
      "Издательский дом «Питер» 328.82 38000.0\n",
      "AGIMA 325.72 525\n",
      "JUG Ru Group 320.84 41000.0\n",
      "Ozon Tech 295.17 28000.0\n",
      "TINKOFF 293.59 40000.0\n",
      "EvaTeam 293.43 47\n",
      "Хабр 283.86 82000.0\n",
      "Postgres Professional 277.68 77000.0\n"
     ]
    }
   ],
   "source": [
    "for company in companies:\n",
    "    # Парсинг Имени\n",
    "    company_title = company.find(\"a\", class_=\"tm-company-snippet__title\").text\n",
    "    # Парсинг кол-во рейтинга\n",
    "    company_counter_rating = float(company.find(\"span\", \n",
    "                                                class_=\"tm-companies__score-counter tm-companies__score-counter_rating\")\n",
    "                                                .text.strip())\n",
    "    # Парсинг подписчиков\n",
    "    company_subscribers = company.find(\"span\", class_=\"tm-companies__score-counter tm-companies__score-counter_subscribers\")\\\n",
    "                                                                                                               .text.strip()\n",
    "    # Парсинг подписчиков\n",
    "    if company_subscribers.find('K') != -1:\n",
    "        company_subscribers = float(company_subscribers.replace('K', '')) * 1000\n",
    "\n",
    "    print(company_title, company_counter_rating, company_subscribers)   "
   ]
  }
 ],
 "metadata": {
  "kernelspec": {
   "display_name": "Python 3 (ipykernel)",
   "language": "python",
   "name": "python3"
  },
  "language_info": {
   "codemirror_mode": {
    "name": "ipython",
    "version": 3
   },
   "file_extension": ".py",
   "mimetype": "text/x-python",
   "name": "python",
   "nbconvert_exporter": "python",
   "pygments_lexer": "ipython3",
   "version": "3.10.10"
  }
 },
 "nbformat": 4,
 "nbformat_minor": 5
}
